{
  "metadata": {
    "kernelspec": {
      "name": "python",
      "display_name": "Python (Pyodide)",
      "language": "python"
    },
    "language_info": {
      "codemirror_mode": {
        "name": "python",
        "version": 3
      },
      "file_extension": ".py",
      "mimetype": "text/x-python",
      "name": "python",
      "nbconvert_exporter": "python",
      "pygments_lexer": "ipython3",
      "version": "3.8"
    }
  },
  "nbformat_minor": 4,
  "nbformat": 4,
  "cells": [
    {
      "cell_type": "markdown",
      "source": "# NoteBook Title",
      "metadata": {}
    },
    {
      "cell_type": "markdown",
      "source": "## Introduction",
      "metadata": {}
    },
    {
      "cell_type": "markdown",
      "source": "This notebook explores various aspects of Data science. We will cover key concepts, perform data analysis, and visualize the results. The goal is to provide a comprehensive understanding of the subject and demonstrate its practical applications.",
      "metadata": {}
    },
    {
      "cell_type": "markdown",
      "source": "The following is an ordered list of commonly used languages:\n\n1. Python\n2. R\n3. SQL\n4. Julia\n5. Scala",
      "metadata": {}
    },
    {
      "cell_type": "markdown",
      "source": "The following is an ordered list of popular data science libraries:\n\n1. Pandas - Used for data manipulation and analysis.\n2. NumPy - Used for numerical computing and handling arrays.\n3. Matplotlib - A plotting library used for creating visualizations.\n4. Seaborn - Built on top of Matplotlib, it provides a high-level interface for drawing attractive statistical graphics.\n5. Scikit-learn - A machine learning library for Python that provides simple and efficient tools for data analysis and modeling.\n6. TensorFlow - A deep learning library developed by Google for building neural networks.\n7. Keras - An open-source neural network library written in Python, designed to enable fast experimentation with deep neural networks.",
      "metadata": {}
    },
    {
      "cell_type": "markdown",
      "source": "| Tool             | Category            | Description                                                       |\n|------------------|---------------------|-------------------------------------------------------------------|\n| **Python**       | Programming Language| Used for data manipulation, analysis, and machine learning tasks. |\n| **R**            | Programming Language| A language for statistical analysis and visualization.            |\n| **Jupyter**      | Interactive Tool    | A web-based notebook for interactive computing and data analysis.|\n| **Pandas**       | Data Manipulation   | A Python library for data manipulation and analysis.              |\n| **Matplotlib**   | Visualization       | A plotting library for creating static, animated, and interactive visualizations in Python. |\n| **TensorFlow**   | Machine Learning    | An open-source framework for deep learning and neural networks.   |\n| **GitHub**       | Version Control     | A platform for version control and collaboration on coding projects.|\n| **Tableau**      | Data Visualization  | A business intelligence tool for creating interactive visualizations. |",
      "metadata": {}
    },
    {
      "cell_type": "markdown",
      "source": "In this section, we will explore some basic examples of arithmetic expressions. Arithmetic expressions are mathematical computations involving numbers, operators, and sometimes variables. Below are a few common arithmetic expressions:\n\n- **Addition**: `5 + 3` results in `8`\n- **Subtraction**: `9 - 4` results in `5`\n- **Multiplication**: `6 * 2` results in `12`\n- **Division**: `8 / 4` results in `2`",
      "metadata": {}
    },
    {
      "cell_type": "code",
      "source": "1+2",
      "metadata": {
        "trusted": true
      },
      "outputs": [
        {
          "execution_count": 1,
          "output_type": "execute_result",
          "data": {
            "text/plain": "3"
          },
          "metadata": {}
        }
      ],
      "execution_count": 1
    },
    {
      "cell_type": "code",
      "source": "20 * 30",
      "metadata": {
        "trusted": true
      },
      "outputs": [
        {
          "execution_count": 2,
          "output_type": "execute_result",
          "data": {
            "text/plain": "600"
          },
          "metadata": {}
        }
      ],
      "execution_count": 2
    },
    {
      "cell_type": "code",
      "source": "# Convert minutes to hours\n\n# Define minutes\nminutes = 120\n\n# Convert minutes to hours\nhours = minutes / 60\n\n# Display result\nprint(f\"{minutes} minutes is equal to {hours} hours.\")\n",
      "metadata": {
        "trusted": true
      },
      "outputs": [
        {
          "name": "stdout",
          "text": "120 minutes is equal to 2.0 hours.\n",
          "output_type": "stream"
        }
      ],
      "execution_count": 3
    },
    {
      "cell_type": "markdown",
      "source": "## Introduction\n\nIn this section, we will explore some key concepts related to data science. Below is an unordered list of important topics:\n\n- Data Manipulation\n- Data Visualization\n- Machine Learning\n- Statistical Analysis\n- Data Cleaning\n",
      "metadata": {}
    },
    {
      "cell_type": "markdown",
      "source": "## Author\n\nThis notebook was created by Nithya Baby.\n",
      "metadata": {}
    },
    {
      "cell_type": "code",
      "source": "",
      "metadata": {
        "trusted": true
      },
      "outputs": [],
      "execution_count": null
    }
  ]
}